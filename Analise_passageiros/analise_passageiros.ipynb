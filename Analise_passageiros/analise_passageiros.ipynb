{
 "cells": [
  {
   "cell_type": "code",
   "execution_count": null,
   "id": "298bb3d8",
   "metadata": {},
   "outputs": [],
   "source": [
    "\"\"\"\n",
    "Time Series Forecasting Project\n",
    "\n",
    "This script demonstrates an end-to-end time series analysis and forecasting project.\n",
    "We will use the classic \"Airline Passengers\" dataset to predict future passenger numbers.\n",
    "\n",
    "We will cover the following steps:\n",
    "1.  **Setup**: Import libraries and load data.\n",
    "2.  **Data Exploration (EDA)**: Visualize the series and understand its components (trend, seasonality).\n",
    "3.  **Preprocessing & Stationarity**: Check for and correct non-stationarity, a key requirement for ARIMA models.\n",
    "4.  **Model Building**:\n",
    "    - SARIMA (Seasonal AutoRegressive Integrated Moving Average)\n",
    "    - Prophet\n",
    "    - Gradient Boosting (XGBoost)\n",
    "5.  **Evaluation**: Compare the models' performance on a hold-out test set.\n",
    "\n",
    "\"\"\""
   ]
  },
  {
   "cell_type": "code",
   "execution_count": null,
   "id": "f14a783a",
   "metadata": {},
   "outputs": [],
   "source": []
  },
  {
   "cell_type": "code",
   "execution_count": null,
   "id": "ba45baea",
   "metadata": {},
   "outputs": [
    {
     "name": "stderr",
     "output_type": "stream",
     "text": [
      "/home/davi/pyproject/portifolio/projeto_series_temporais-1/.venv/lib/python3.12/site-packages/tqdm/auto.py:21: TqdmWarning: IProgress not found. Please update jupyter and ipywidgets. See https://ipywidgets.readthedocs.io/en/stable/user_install.html\n",
      "  from .autonotebook import tqdm as notebook_tqdm\n",
      "Importing plotly failed. Interactive plots will not work.\n"
     ]
    }
   ],
   "source": [
    "# 1. SETUP: IMPORT LIBRARIES AND LOAD DATA\n",
    "# ==============================================================================\n",
    "import pandas as pd\n",
    "import numpy as np\n",
    "import matplotlib.pyplot as plt\n",
    "import seaborn as sns\n",
    "from statsmodels.tsa.stattools import adfuller\n",
    "from statsmodels.tsa.seasonal import seasonal_decompose\n",
    "from pmdarima import auto_arima\n",
    "from prophet import Prophet\n",
    "import xgboost as xgb\n",
    "from sklearn.metrics import mean_squared_error, mean_absolute_error\n",
    "\n",
    "plt.style.use('seaborn-v0_8-whitegrid')\n",
    "plt.rcParams['figure.figsize'] = (12, 6)\n",
    "\n",
    "# Load the dataset\n",
    "# The data is monthly total international airline passengers from 1949 to 1960.\n",
    "url = 'https://raw.githubusercontent.com/jbrownlee/Datasets/master/airline-passengers.csv'\n",
    "df = pd.read_csv(url)\n"
   ]
  },
  {
   "cell_type": "code",
   "execution_count": null,
   "id": "144586ae",
   "metadata": {},
   "outputs": [],
   "source": []
  },
  {
   "cell_type": "code",
   "execution_count": null,
   "id": "73b0510d",
   "metadata": {},
   "outputs": [],
   "source": []
  }
 ],
 "metadata": {
  "kernelspec": {
   "display_name": ".venv",
   "language": "python",
   "name": "python3"
  },
  "language_info": {
   "codemirror_mode": {
    "name": "ipython",
    "version": 3
   },
   "file_extension": ".py",
   "mimetype": "text/x-python",
   "name": "python",
   "nbconvert_exporter": "python",
   "pygments_lexer": "ipython3",
   "version": "3.12.3"
  }
 },
 "nbformat": 4,
 "nbformat_minor": 5
}
